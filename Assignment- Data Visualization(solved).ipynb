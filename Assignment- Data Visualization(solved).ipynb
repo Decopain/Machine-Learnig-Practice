{
  "cells": [
    {
      "cell_type": "markdown",
      "metadata": {},
      "source": [
        "---\n",
        "---\n",
        "\n",
        "<center><h1>📍 📍 Assignment: Data Visualization 📍 📍</h1></center>\n",
        "    \n",
        "    \n",
        "---\n",
        "\n",
        "#### `READ THE BIG MART SALES DATA`\n",
        "\n",
        "---"
      ],
      "id": "82f61221"
    },
    {
      "cell_type": "code",
      "execution_count": 7,
      "metadata": {
        "noteable": {
          "output_collection_id": "ea3b01ac-c27e-473c-8771-fc4bec97ee75"
        },
        "ExecuteTime": {
          "end_time": "2023-08-16T18:57:31.600341+00:00",
          "start_time": "2023-08-16T18:57:30.748375+00:00"
        }
      },
      "outputs": [],
      "source": [
        "import pandas as pd\n",
        "import numpy as np\n",
        "\n",
        "import matplotlib.pyplot as plt\n",
        "%matplotlib inline\n",
        "\n",
        "import seaborn as sns"
      ],
      "id": "ee7d6e29"
    },
    {
      "cell_type": "code",
      "execution_count": 8,
      "metadata": {
        "noteable": {
          "output_collection_id": "78bb9f1c-47ee-4f00-ad65-49f47b116708"
        },
        "ExecuteTime": {
          "end_time": "2023-08-16T18:57:36.766861+00:00",
          "start_time": "2023-08-16T18:57:36.588901+00:00"
        }
      },
      "outputs": [],
      "source": "data_BM = pd.read_csv('big_mart_sales.csv')",
      "id": "8257fd7f"
    },
    {
      "cell_type": "code",
      "execution_count": 9,
      "metadata": {
        "noteable": {
          "output_collection_id": "796c091b-69f2-4354-b41f-65ed4b62c212"
        },
        "ExecuteTime": {
          "end_time": "2023-08-16T18:57:39.599669+00:00",
          "start_time": "2023-08-16T18:57:39.366645+00:00"
        },
        "datalink": {
          "9c7a3e4d-e9b9-4cbd-a075-15d6abb72e2b": {
            "applied_filters": [],
            "dataframe_info": {
              "default_index_used": true,
              "orig_num_cols": 12,
              "orig_num_rows": 5,
              "orig_size_bytes": 520,
              "truncated_num_cols": 12,
              "truncated_num_rows": 5,
              "truncated_size_bytes": 520,
              "truncated_string_columns": []
            },
            "display_id": "9c7a3e4d-e9b9-4cbd-a075-15d6abb72e2b",
            "dx_settings": {
              "ALLOW_NOTEABLE_ATTRS": true,
              "COLUMN_SAMPLING_METHOD": "outer",
              "DB_LOCATION": ":memory:",
              "DEV_MODE": false,
              "DISPLAY_MAX_COLUMNS": 100,
              "DISPLAY_MAX_ROWS": 50000,
              "DISPLAY_MODE": "simple",
              "ENABLE_ASSIGNMENT": true,
              "ENABLE_DATALINK": true,
              "FLATTEN_COLUMN_VALUES": true,
              "FLATTEN_INDEX_VALUES": false,
              "GENERATE_DEX_METADATA": false,
              "HTML_TABLE_SCHEMA": false,
              "LOG_LEVEL": 30,
              "MAX_RENDER_SIZE_BYTES": 104857600,
              "MAX_STRING_LENGTH": 250,
              "NUM_PAST_SAMPLES_TRACKED": 3,
              "RANDOM_STATE": 12648430,
              "RESET_INDEX_VALUES": false,
              "ROW_SAMPLING_METHOD": "random",
              "SAMPLING_FACTOR": 0.1,
              "SAMPLING_METHOD": "random",
              "STRINGIFY_COLUMN_VALUES": true,
              "STRINGIFY_INDEX_VALUES": false
            },
            "sample_history": [],
            "sampling_time": "2023-08-16T18:57:39.440587",
            "user_variable_name": null,
            "variable_name": "unk_dataframe_b74389759710456798a912055077884a"
          }
        }
      },
      "outputs": [],
      "source": [
        "data_BM.head()"
      ],
      "id": "ee15b9c1"
    },
    {
      "cell_type": "code",
      "execution_count": 11,
      "metadata": {
        "noteable": {
          "output_collection_id": "642416f9-0858-46b8-9449-d3a2d3271f6a"
        },
        "ExecuteTime": {
          "end_time": "2023-08-16T18:57:45.118161+00:00",
          "start_time": "2023-08-16T18:57:44.600151+00:00"
        }
      },
      "outputs": [],
      "source": [
        "# sales by outlet size\n",
        "sales_by_outlet_size = data_BM.groupby('Outlet_Size').Item_Outlet_Sales.mean()\n",
        "\n",
        "# sort by sales\n",
        "sales_by_outlet_size.sort_values(inplace=True)\n",
        "\n",
        "x = sales_by_outlet_size.index.tolist()\n",
        "y = sales_by_outlet_size.values.tolist()\n",
        "\n",
        "\n",
        "# set xticks \n",
        "plt.xticks(labels=x, ticks=np.arange(len(x)))\n",
        "\n",
        "plt.bar(x, y, color=['red', 'orange', 'magenta']);"
      ],
      "id": "dc964c93"
    },
    {
      "cell_type": "markdown",
      "metadata": {},
      "source": [
        "#### `Do the following edits in the above plot`\n",
        "\n",
        "- Add the x-axis label as `Outlet Size`\n",
        "- Add the y-axis label as `Sales`\n",
        "- Add the plot title as `Mean Sales for each outlet type`\n",
        "\n",
        "---"
      ],
      "id": "a24d1d2f"
    },
    {
      "cell_type": "code",
      "execution_count": 12,
      "metadata": {
        "noteable": {
          "output_collection_id": "c37fb6c7-a475-4f4e-a16f-43b62d48c1f6"
        },
        "ExecuteTime": {
          "end_time": "2023-08-16T19:02:14.820751+00:00",
          "start_time": "2023-08-16T19:02:14.363241+00:00"
        }
      },
      "outputs": [],
      "source": "plt.figure(figsize=(12, 6))\nsns.barplot(x='Outlet_Size', y='Item_Outlet_Sales', data=data_BM, ci=None)\nplt.xlabel('Outlet Size')\nplt.ylabel('Sales')\nplt.title('Mean Sales for each outlet type')\nplt.show()",
      "id": "87afdc02"
    },
    {
      "cell_type": "markdown",
      "metadata": {},
      "source": [
        "---\n",
        "\n",
        "\n",
        "***Create a scatter plot to show the relative distribution of `Item_Weight` and `Item_Visibility`.***\n",
        "\n",
        "\n",
        "---"
      ],
      "id": "2e658ae6"
    },
    {
      "cell_type": "code",
      "execution_count": 13,
      "metadata": {
        "noteable": {
          "output_collection_id": "6e0f1c3b-6a3e-4998-bc89-dbc6917b319d"
        },
        "ExecuteTime": {
          "end_time": "2023-08-16T19:04:21.168138+00:00",
          "start_time": "2023-08-16T19:04:20.618770+00:00"
        }
      },
      "outputs": [],
      "source": "plt.figure(figsize=(12, 6))\nsns.scatterplot(x='Item_Weight', y='Item_Visibility', data=data_BM)\nplt.xlabel('Item Weight')\nplt.ylabel('Item Visibility')\nplt.title('Relative Distribution of Item Weight and Item Visibility')\nplt.show()",
      "id": "365832d4"
    },
    {
      "cell_type": "markdown",
      "metadata": {},
      "source": [
        "---\n",
        "\n",
        "***Create a `box plot` of the variable `Item_Outlet_Sales` using the seaborn.***\n",
        "\n",
        "\n",
        "---"
      ],
      "id": "10656323"
    },
    {
      "cell_type": "code",
      "execution_count": 14,
      "metadata": {},
      "outputs": [],
      "source": [
        "# WRITE YOUR CODE HERE"
      ],
      "id": "a5740321"
    },
    {
      "cell_type": "code",
      "execution_count": null,
      "metadata": {},
      "outputs": [],
      "source": [],
      "id": "c0d4ac3d"
    }
  ],
  "metadata": {
    "kernelspec": {
      "display_name": "Python 3.9",
      "language": "python",
      "name": "python3"
    },
    "language_info": {
      "codemirror_mode": {
        "name": "ipython",
        "version": 3
      },
      "file_extension": ".py",
      "mimetype": "text/x-python",
      "name": "python",
      "nbconvert_exporter": "python",
      "pygments_lexer": "ipython3",
      "version": "3.7.3"
    },
    "noteable": {
      "last_transaction_id": "753d1d05-cfd9-4036-bfbc-08608578a726"
    },
    "selected_hardware_size": "small",
    "kernel_info": {
      "name": "python3"
    }
  },
  "nbformat": 4,
  "nbformat_minor": 5
}