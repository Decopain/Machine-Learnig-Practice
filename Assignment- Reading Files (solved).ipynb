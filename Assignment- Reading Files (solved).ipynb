{
  "cells": [
    {
      "cell_type": "markdown",
      "metadata": {},
      "source": [
        "---\n",
        "---\n",
        "\n",
        "<center> <h1>📍 📍 Assignment: Reading Files 📍 📍</h1> </center>\n",
        "\n",
        "---\n",
        "\n",
        "#### `1. READ THE BIG MART SALES DATA`\n",
        "\n",
        "---"
      ],
      "id": "489ee82a"
    },
    {
      "cell_type": "code",
      "execution_count": 1,
      "metadata": {},
      "outputs": [],
      "source": [
        "import pandas as pd"
      ],
      "id": "7daf42b6"
    },
    {
      "cell_type": "code",
      "execution_count": 2,
      "metadata": {
        "noteable": {
          "output_collection_id": "89ae82e9-d19f-428e-9d78-f2869b146895"
        },
        "ExecuteTime": {
          "end_time": "2023-08-16T18:06:02.520520+00:00",
          "start_time": "2023-08-16T18:06:02.215141+00:00"
        }
      },
      "outputs": [],
      "source": "data = pd.read_csv('big_mart_sales.csv')",
      "id": "9fa2ebb0"
    },
    {
      "cell_type": "markdown",
      "metadata": {},
      "source": [
        "---\n",
        "\n",
        "***So, we are getting an error. You task is to find out the error and read the file using pandas. Here is the screenshot of the CSV file.***\n",
        "\n",
        "![](images/csv.png)\n",
        "\n",
        "---"
      ],
      "id": "f35945da"
    },
    {
      "cell_type": "code",
      "execution_count": 3,
      "metadata": {
        "noteable": {
          "output_collection_id": "14f259bd-80e1-4412-97e2-0214d0389882"
        },
        "ExecuteTime": {
          "end_time": "2023-08-16T18:10:52.869102+00:00",
          "start_time": "2023-08-16T18:10:52.695589+00:00"
        }
      },
      "outputs": [],
      "source": "data = pd.read_csv('big_mart_sales.csv', delimiter=';')",
      "id": "5b98f814"
    },
    {
      "id": "3dbd53aa-2855-405a-88d5-9dcf7ba5a59c",
      "cell_type": "code",
      "metadata": {
        "jupyter": {
          "outputs_hidden": false,
          "source_hidden": false
        },
        "noteable": {
          "cell_type": "code",
          "output_collection_id": "0dda176a-28a9-4ae3-9491-49b2d92c370d"
        },
        "ExecuteTime": {
          "end_time": "2023-08-16T18:10:55.708900+00:00",
          "start_time": "2023-08-16T18:10:55.424201+00:00"
        },
        "datalink": {
          "0452f037-c418-48c7-90e4-a1049f656cda": {
            "applied_filters": [],
            "dataframe_info": {
              "default_index_used": true,
              "orig_num_cols": 1,
              "orig_num_rows": 8527,
              "orig_size_bytes": 136432,
              "truncated_num_cols": 1,
              "truncated_num_rows": 8527,
              "truncated_size_bytes": 136432,
              "truncated_string_columns": []
            },
            "display_id": "0452f037-c418-48c7-90e4-a1049f656cda",
            "dx_settings": {
              "ALLOW_NOTEABLE_ATTRS": true,
              "COLUMN_SAMPLING_METHOD": "outer",
              "DB_LOCATION": ":memory:",
              "DEV_MODE": false,
              "DISPLAY_MAX_COLUMNS": 100,
              "DISPLAY_MAX_ROWS": 50000,
              "DISPLAY_MODE": "simple",
              "ENABLE_ASSIGNMENT": true,
              "ENABLE_DATALINK": true,
              "FLATTEN_COLUMN_VALUES": true,
              "FLATTEN_INDEX_VALUES": false,
              "GENERATE_DEX_METADATA": false,
              "HTML_TABLE_SCHEMA": false,
              "LOG_LEVEL": 30,
              "MAX_RENDER_SIZE_BYTES": 104857600,
              "MAX_STRING_LENGTH": 250,
              "NUM_PAST_SAMPLES_TRACKED": 3,
              "RANDOM_STATE": 12648430,
              "RESET_INDEX_VALUES": false,
              "ROW_SAMPLING_METHOD": "random",
              "SAMPLING_FACTOR": 0.1,
              "SAMPLING_METHOD": "random",
              "STRINGIFY_COLUMN_VALUES": true,
              "STRINGIFY_INDEX_VALUES": false
            },
            "sample_history": [],
            "sampling_time": "2023-08-16T18:10:01.129988",
            "user_variable_name": "data",
            "variable_name": "data"
          },
          "70d6c6c9-4fc6-4307-87d3-4b9f9c81aefa": {
            "applied_filters": [],
            "dataframe_info": {
              "default_index_used": true,
              "orig_num_cols": 1,
              "orig_num_rows": 8527,
              "orig_size_bytes": 136432,
              "truncated_num_cols": 1,
              "truncated_num_rows": 8527,
              "truncated_size_bytes": 136432,
              "truncated_string_columns": []
            },
            "display_id": "70d6c6c9-4fc6-4307-87d3-4b9f9c81aefa",
            "dx_settings": {
              "ALLOW_NOTEABLE_ATTRS": true,
              "COLUMN_SAMPLING_METHOD": "outer",
              "DB_LOCATION": ":memory:",
              "DEV_MODE": false,
              "DISPLAY_MAX_COLUMNS": 100,
              "DISPLAY_MAX_ROWS": 50000,
              "DISPLAY_MODE": "simple",
              "ENABLE_ASSIGNMENT": true,
              "ENABLE_DATALINK": true,
              "FLATTEN_COLUMN_VALUES": true,
              "FLATTEN_INDEX_VALUES": false,
              "GENERATE_DEX_METADATA": false,
              "HTML_TABLE_SCHEMA": false,
              "LOG_LEVEL": 30,
              "MAX_RENDER_SIZE_BYTES": 104857600,
              "MAX_STRING_LENGTH": 250,
              "NUM_PAST_SAMPLES_TRACKED": 3,
              "RANDOM_STATE": 12648430,
              "RESET_INDEX_VALUES": false,
              "ROW_SAMPLING_METHOD": "random",
              "SAMPLING_FACTOR": 0.1,
              "SAMPLING_METHOD": "random",
              "STRINGIFY_COLUMN_VALUES": true,
              "STRINGIFY_INDEX_VALUES": false
            },
            "sample_history": [],
            "sampling_time": "2023-08-16T18:10:55.522299",
            "user_variable_name": "data",
            "variable_name": "data"
          }
        }
      },
      "execution_count": null,
      "source": "data",
      "outputs": []
    },
    {
      "cell_type": "markdown",
      "metadata": {},
      "source": [
        "----\n",
        "\n",
        "####  `2. READ THE JSON DATA`\n",
        "\n",
        "----"
      ],
      "id": "5d9e1436"
    },
    {
      "cell_type": "code",
      "execution_count": 6,
      "metadata": {
        "noteable": {
          "output_collection_id": "a81198b2-e1b0-4b21-9236-fdb364de7fe8"
        },
        "ExecuteTime": {
          "end_time": "2023-08-16T18:14:17.590868+00:00",
          "start_time": "2023-08-16T18:14:17.323893+00:00"
        }
      },
      "outputs": [],
      "source": "# read the json file\njson_data = pd.read_json('simple.json')",
      "id": "b2d450d1"
    },
    {
      "cell_type": "markdown",
      "metadata": {},
      "source": [
        "---\n",
        "\n",
        "***Open the JSON file in the text editor and see what can you do to read the file.***\n",
        "\n",
        "---"
      ],
      "id": "3e4c64a2"
    },
    {
      "cell_type": "code",
      "execution_count": 7,
      "metadata": {
        "noteable": {
          "output_collection_id": "900358ab-856c-46ed-a17b-a446ff0160d3"
        },
        "ExecuteTime": {
          "end_time": "2023-08-16T18:15:47.484491+00:00",
          "start_time": "2023-08-16T18:15:47.315920+00:00"
        }
      },
      "outputs": [],
      "source": "try:\n    with open('simple.json', 'r') as file:\n        json_content = file.read()\n    json_data = pd.read_json(json_content, lines=True)\n    print('JSON file read successfully.')\nexcept Exception as e:\n    print(f'Error reading JSON file: {e}')",
      "id": "7ceed067"
    },
    {
      "cell_type": "code",
      "execution_count": null,
      "metadata": {
        "noteable": {
          "output_collection_id": "0b3ecbf1-7c28-4227-82c2-778eb343b65d"
        },
        "ExecuteTime": {
          "end_time": "2023-08-16T18:16:01.538654+00:00",
          "start_time": "2023-08-16T18:16:01.333058+00:00"
        },
        "datalink": {
          "753243a0-a7a8-46a4-ab0f-15d88a50d518": {
            "applied_filters": [],
            "dataframe_info": {
              "default_index_used": true,
              "orig_num_cols": 3,
              "orig_num_rows": 10,
              "orig_size_bytes": 320,
              "truncated_num_cols": 3,
              "truncated_num_rows": 10,
              "truncated_size_bytes": 320,
              "truncated_string_columns": []
            },
            "display_id": "753243a0-a7a8-46a4-ab0f-15d88a50d518",
            "dx_settings": {
              "ALLOW_NOTEABLE_ATTRS": true,
              "COLUMN_SAMPLING_METHOD": "outer",
              "DB_LOCATION": ":memory:",
              "DEV_MODE": false,
              "DISPLAY_MAX_COLUMNS": 100,
              "DISPLAY_MAX_ROWS": 50000,
              "DISPLAY_MODE": "simple",
              "ENABLE_ASSIGNMENT": true,
              "ENABLE_DATALINK": true,
              "FLATTEN_COLUMN_VALUES": true,
              "FLATTEN_INDEX_VALUES": false,
              "GENERATE_DEX_METADATA": false,
              "HTML_TABLE_SCHEMA": false,
              "LOG_LEVEL": 30,
              "MAX_RENDER_SIZE_BYTES": 104857600,
              "MAX_STRING_LENGTH": 250,
              "NUM_PAST_SAMPLES_TRACKED": 3,
              "RANDOM_STATE": 12648430,
              "RESET_INDEX_VALUES": false,
              "ROW_SAMPLING_METHOD": "random",
              "SAMPLING_FACTOR": 0.1,
              "SAMPLING_METHOD": "random",
              "STRINGIFY_COLUMN_VALUES": true,
              "STRINGIFY_INDEX_VALUES": false
            },
            "sample_history": [],
            "sampling_time": "2023-08-16T18:16:01.380480",
            "user_variable_name": "json_data",
            "variable_name": "json_data"
          }
        }
      },
      "outputs": [],
      "source": "json_data",
      "id": "f8769ae6"
    }
  ],
  "metadata": {
    "kernelspec": {
      "display_name": "Python 3.9",
      "language": "python",
      "name": "python3"
    },
    "language_info": {
      "codemirror_mode": {
        "name": "ipython",
        "version": 3
      },
      "file_extension": ".py",
      "mimetype": "text/x-python",
      "name": "python",
      "nbconvert_exporter": "python",
      "pygments_lexer": "ipython3",
      "version": "3.7.3"
    },
    "noteable": {
      "last_transaction_id": "d4f166de-1539-49d1-8549-eea3412430e2"
    },
    "selected_hardware_size": "small",
    "kernel_info": {
      "name": "python3"
    }
  },
  "nbformat": 4,
  "nbformat_minor": 5
}