{
  "cells": [
    {
      "cell_type": "markdown",
      "metadata": {},
      "source": [
        "---\n",
        "---\n",
        "\n",
        "<center><h1>📍 📍 Assignment: Sorting and Aggregating Data 📍 📍</h1></center>\n",
        "\n",
        "---\n",
        "\n",
        "#### `READ THE DATASET`\n",
        "\n",
        "---"
      ],
      "id": "8800adf5"
    },
    {
      "cell_type": "code",
      "execution_count": 1,
      "metadata": {},
      "outputs": [],
      "source": [
        "import pandas as pd"
      ],
      "id": "3d96546c"
    },
    {
      "cell_type": "code",
      "execution_count": 2,
      "metadata": {
        "noteable": {
          "output_collection_id": "03edf99d-cd15-42db-8c46-5a47e5adb51f"
        },
        "ExecuteTime": {
          "end_time": "2023-08-16T18:25:55.976121+00:00",
          "start_time": "2023-08-16T18:25:55.800358+00:00"
        }
      },
      "outputs": [],
      "source": "data = pd.read_csv('time_series.csv')",
      "id": "f3f26237"
    },
    {
      "cell_type": "code",
      "execution_count": 3,
      "metadata": {
        "noteable": {
          "output_collection_id": "11a3943b-ef85-47c9-97d2-ad811b148fd0"
        },
        "ExecuteTime": {
          "end_time": "2023-08-16T18:25:59.236448+00:00",
          "start_time": "2023-08-16T18:25:59.036287+00:00"
        },
        "datalink": {
          "09fa2da4-322a-406b-9e3e-3a2cd1ad3a3f": {
            "applied_filters": [],
            "dataframe_info": {
              "default_index_used": true,
              "orig_num_cols": 3,
              "orig_num_rows": 5,
              "orig_size_bytes": 160,
              "truncated_num_cols": 3,
              "truncated_num_rows": 5,
              "truncated_size_bytes": 160,
              "truncated_string_columns": []
            },
            "display_id": "09fa2da4-322a-406b-9e3e-3a2cd1ad3a3f",
            "dx_settings": {
              "ALLOW_NOTEABLE_ATTRS": true,
              "COLUMN_SAMPLING_METHOD": "outer",
              "DB_LOCATION": ":memory:",
              "DEV_MODE": false,
              "DISPLAY_MAX_COLUMNS": 100,
              "DISPLAY_MAX_ROWS": 50000,
              "DISPLAY_MODE": "simple",
              "ENABLE_ASSIGNMENT": true,
              "ENABLE_DATALINK": true,
              "FLATTEN_COLUMN_VALUES": true,
              "FLATTEN_INDEX_VALUES": false,
              "GENERATE_DEX_METADATA": false,
              "HTML_TABLE_SCHEMA": false,
              "LOG_LEVEL": 30,
              "MAX_RENDER_SIZE_BYTES": 104857600,
              "MAX_STRING_LENGTH": 250,
              "NUM_PAST_SAMPLES_TRACKED": 3,
              "RANDOM_STATE": 12648430,
              "RESET_INDEX_VALUES": false,
              "ROW_SAMPLING_METHOD": "random",
              "SAMPLING_FACTOR": 0.1,
              "SAMPLING_METHOD": "random",
              "STRINGIFY_COLUMN_VALUES": true,
              "STRINGIFY_INDEX_VALUES": false
            },
            "sample_history": [],
            "sampling_time": "2023-08-16T18:25:59.078284",
            "user_variable_name": null,
            "variable_name": "unk_dataframe_de23a53b74b54c72a87518546f245dd1"
          }
        }
      },
      "outputs": [],
      "source": [
        "data.head()"
      ],
      "id": "1cd60bba"
    },
    {
      "cell_type": "code",
      "execution_count": 4,
      "metadata": {
        "noteable": {
          "output_collection_id": "3d7e4d9c-5615-4a60-a75a-706e2c65945c"
        },
        "ExecuteTime": {
          "end_time": "2023-08-16T18:26:03.437516+00:00",
          "start_time": "2023-08-16T18:26:03.248115+00:00"
        },
        "datalink": {
          "8a779e61-5e43-4a2d-8d62-8a82a55ca10b": {
            "applied_filters": [],
            "dataframe_info": {
              "default_index_used": false,
              "orig_num_cols": 1,
              "orig_num_rows": 3,
              "orig_size_bytes": 48,
              "truncated_num_cols": 1,
              "truncated_num_rows": 3,
              "truncated_size_bytes": 48,
              "truncated_string_columns": []
            },
            "display_id": "8a779e61-5e43-4a2d-8d62-8a82a55ca10b",
            "dx_settings": {
              "ALLOW_NOTEABLE_ATTRS": true,
              "COLUMN_SAMPLING_METHOD": "outer",
              "DB_LOCATION": ":memory:",
              "DEV_MODE": false,
              "DISPLAY_MAX_COLUMNS": 100,
              "DISPLAY_MAX_ROWS": 50000,
              "DISPLAY_MODE": "simple",
              "ENABLE_ASSIGNMENT": true,
              "ENABLE_DATALINK": true,
              "FLATTEN_COLUMN_VALUES": true,
              "FLATTEN_INDEX_VALUES": false,
              "GENERATE_DEX_METADATA": false,
              "HTML_TABLE_SCHEMA": false,
              "LOG_LEVEL": 30,
              "MAX_RENDER_SIZE_BYTES": 104857600,
              "MAX_STRING_LENGTH": 250,
              "NUM_PAST_SAMPLES_TRACKED": 3,
              "RANDOM_STATE": 12648430,
              "RESET_INDEX_VALUES": false,
              "ROW_SAMPLING_METHOD": "random",
              "SAMPLING_FACTOR": 0.1,
              "SAMPLING_METHOD": "random",
              "STRINGIFY_COLUMN_VALUES": true,
              "STRINGIFY_INDEX_VALUES": false
            },
            "sample_history": [],
            "sampling_time": "2023-08-16T18:26:03.281101",
            "user_variable_name": null,
            "variable_name": "unk_dataframe_b4e9c63a11f240169d335ac391afef49"
          }
        }
      },
      "outputs": [],
      "source": [
        "data.dtypes"
      ],
      "id": "4fbc1502"
    },
    {
      "cell_type": "markdown",
      "metadata": {},
      "source": [
        "#### `Convert the Datetime column to pandas datetime object`\n",
        "\n",
        "---"
      ],
      "id": "f6d19eb5"
    },
    {
      "cell_type": "code",
      "execution_count": 5,
      "metadata": {
        "noteable": {
          "output_collection_id": "8ed76d30-b0ca-4c48-806e-2e6e833133cf"
        },
        "ExecuteTime": {
          "end_time": "2023-08-16T18:27:01.436805+00:00",
          "start_time": "2023-08-16T18:26:59.078643+00:00"
        }
      },
      "outputs": [],
      "source": "data['Datetime'] = pd.to_datetime(data['Datetime'])\ndata['Datetime'].dtype",
      "id": "3657bbba"
    },
    {
      "cell_type": "markdown",
      "metadata": {},
      "source": [
        "---\n",
        "\n",
        "####  `Create the following features using the Datetime feature`\n",
        "\n",
        "- day of month\n",
        "- month\n",
        "- day of year\n",
        "- hour\n",
        "\n",
        "---"
      ],
      "id": "8d02b7a6"
    },
    {
      "cell_type": "code",
      "execution_count": 6,
      "metadata": {
        "noteable": {
          "output_collection_id": "c738c715-2bfd-46f2-96fa-1ad27038b71f"
        },
        "ExecuteTime": {
          "end_time": "2023-08-16T18:28:32.274920+00:00",
          "start_time": "2023-08-16T18:28:32.057844+00:00"
        },
        "datalink": {
          "9490292b-2a11-40dd-a576-e74dc80eb5e1": {
            "applied_filters": [],
            "dataframe_info": {
              "default_index_used": true,
              "orig_num_cols": 4,
              "orig_num_rows": 5,
              "orig_size_bytes": 200,
              "truncated_num_cols": 4,
              "truncated_num_rows": 5,
              "truncated_size_bytes": 200,
              "truncated_string_columns": []
            },
            "display_id": "9490292b-2a11-40dd-a576-e74dc80eb5e1",
            "dx_settings": {
              "ALLOW_NOTEABLE_ATTRS": true,
              "COLUMN_SAMPLING_METHOD": "outer",
              "DB_LOCATION": ":memory:",
              "DEV_MODE": false,
              "DISPLAY_MAX_COLUMNS": 100,
              "DISPLAY_MAX_ROWS": 50000,
              "DISPLAY_MODE": "simple",
              "ENABLE_ASSIGNMENT": true,
              "ENABLE_DATALINK": true,
              "FLATTEN_COLUMN_VALUES": true,
              "FLATTEN_INDEX_VALUES": false,
              "GENERATE_DEX_METADATA": false,
              "HTML_TABLE_SCHEMA": false,
              "LOG_LEVEL": 30,
              "MAX_RENDER_SIZE_BYTES": 104857600,
              "MAX_STRING_LENGTH": 250,
              "NUM_PAST_SAMPLES_TRACKED": 3,
              "RANDOM_STATE": 12648430,
              "RESET_INDEX_VALUES": false,
              "ROW_SAMPLING_METHOD": "random",
              "SAMPLING_FACTOR": 0.1,
              "SAMPLING_METHOD": "random",
              "STRINGIFY_COLUMN_VALUES": true,
              "STRINGIFY_INDEX_VALUES": false
            },
            "sample_history": [],
            "sampling_time": "2023-08-16T18:28:32.115982",
            "user_variable_name": null,
            "variable_name": "unk_dataframe_968f37c4f83148aa9d5d52992d13935b"
          }
        }
      },
      "outputs": [],
      "source": "data['day_of_month'] = data['Datetime'].dt.day\ndata['month'] = data['Datetime'].dt.month\ndata['day_of_year'] = data['Datetime'].dt.dayofyear\ndata['hour'] = data['Datetime'].dt.hour\ndata[['day_of_month', 'month', 'day_of_year', 'hour']].head()",
      "id": "ab3ea958"
    },
    {
      "cell_type": "markdown",
      "metadata": {},
      "source": [
        "---\n",
        "\n",
        "#### `Consider the following dataframe`\n",
        "\n",
        "---"
      ],
      "id": "e730e8d0"
    },
    {
      "cell_type": "code",
      "execution_count": 8,
      "metadata": {
        "noteable": {
          "output_collection_id": "cc51e1f8-d84e-472f-a656-82e852ef8d25"
        }
      },
      "outputs": [],
      "source": [
        "sample_df = pd.DataFrame({\n",
        "    'id'   :  [1, 2, 3, 4, 5],\n",
        "    'name' :  [ 'Akash', 'Akansha', 'Naman', 'Pulkit', 'Anand'],\n",
        "    'marks':  [ 22, 23, 43, 41, 12]\n",
        "})\n",
        "sample_df"
      ],
      "id": "4cf19429"
    },
    {
      "cell_type": "markdown",
      "metadata": {},
      "source": [
        "#### Sort the  dataframe by `marks` column in descending order\n",
        "\n",
        "---"
      ],
      "id": "7e6f1b0a"
    },
    {
      "cell_type": "code",
      "execution_count": 9,
      "metadata": {
        "noteable": {
          "output_collection_id": "0f617a06-12ba-4eb4-b80f-71643d820f9e"
        },
        "ExecuteTime": {
          "end_time": "2023-08-16T18:31:18.890881+00:00",
          "start_time": "2023-08-16T18:31:18.689917+00:00"
        },
        "datalink": {
          "d8a905ef-641b-4503-b2a5-02fb1c72da97": {
            "applied_filters": [],
            "dataframe_info": {
              "default_index_used": true,
              "orig_num_cols": 3,
              "orig_num_rows": 5,
              "orig_size_bytes": 160,
              "truncated_num_cols": 3,
              "truncated_num_rows": 5,
              "truncated_size_bytes": 160,
              "truncated_string_columns": []
            },
            "display_id": "d8a905ef-641b-4503-b2a5-02fb1c72da97",
            "dx_settings": {
              "ALLOW_NOTEABLE_ATTRS": true,
              "COLUMN_SAMPLING_METHOD": "outer",
              "DB_LOCATION": ":memory:",
              "DEV_MODE": false,
              "DISPLAY_MAX_COLUMNS": 100,
              "DISPLAY_MAX_ROWS": 50000,
              "DISPLAY_MODE": "simple",
              "ENABLE_ASSIGNMENT": true,
              "ENABLE_DATALINK": true,
              "FLATTEN_COLUMN_VALUES": true,
              "FLATTEN_INDEX_VALUES": false,
              "GENERATE_DEX_METADATA": false,
              "HTML_TABLE_SCHEMA": false,
              "LOG_LEVEL": 30,
              "MAX_RENDER_SIZE_BYTES": 104857600,
              "MAX_STRING_LENGTH": 250,
              "NUM_PAST_SAMPLES_TRACKED": 3,
              "RANDOM_STATE": 12648430,
              "RESET_INDEX_VALUES": false,
              "ROW_SAMPLING_METHOD": "random",
              "SAMPLING_FACTOR": 0.1,
              "SAMPLING_METHOD": "random",
              "STRINGIFY_COLUMN_VALUES": true,
              "STRINGIFY_INDEX_VALUES": false
            },
            "sample_history": [],
            "sampling_time": "2023-08-16T18:31:18.733465",
            "user_variable_name": "sample_df",
            "variable_name": "sample_df"
          }
        }
      },
      "outputs": [],
      "source": "sample_df = pd.DataFrame({\n    'id'   :  [1, 2, 3, 4, 5],\n    'name' :  [ 'Akash', 'Akansha', 'Naman', 'Pulkit', 'Anand'],\n    'marks':  [ 22, 23, 43, 41, 12]\n})\nsample_df = sample_df.sort_values(by='marks', ascending=False)\nsample_df",
      "id": "39a81092"
    },
    {
      "cell_type": "markdown",
      "metadata": {},
      "source": [
        "#### Consider another dataframe city\n",
        "---"
      ],
      "id": "c9b2e11d"
    },
    {
      "cell_type": "code",
      "execution_count": 12,
      "metadata": {
        "noteable": {
          "output_collection_id": "a75c100b-1f46-4349-9945-f7b6f2ec6b7d"
        }
      },
      "outputs": [],
      "source": [
        "city = pd.DataFrame({\n",
        "    'name' : ['Akash', 'Akansha', 'Pulkit', 'Anand', 'Naman'],\n",
        "    'city' : ['Delhi', 'Gurugram', 'Gurugram', 'Delhi', 'Noida']\n",
        "})\n",
        "city"
      ],
      "id": "778da9d1"
    },
    {
      "cell_type": "markdown",
      "metadata": {},
      "source": [
        "***Use the dataframe `sample_df` and `city` and find out the marks of students who live in Gurugram.***\n",
        "\n",
        "---"
      ],
      "id": "c645b156"
    },
    {
      "cell_type": "code",
      "execution_count": 13,
      "metadata": {
        "noteable": {
          "output_collection_id": "42cf8db1-2179-4f3d-9b42-2614f756fb14"
        },
        "ExecuteTime": {
          "end_time": "2023-08-16T18:41:13.358315+00:00",
          "start_time": "2023-08-16T18:41:13.157887+00:00"
        },
        "datalink": {
          "9fed9349-a9d9-4e33-a39c-94b571bbcc71": {
            "applied_filters": [],
            "dataframe_info": {
              "default_index_used": true,
              "orig_num_cols": 2,
              "orig_num_rows": 2,
              "orig_size_bytes": 48,
              "truncated_num_cols": 2,
              "truncated_num_rows": 2,
              "truncated_size_bytes": 48,
              "truncated_string_columns": []
            },
            "display_id": "9fed9349-a9d9-4e33-a39c-94b571bbcc71",
            "dx_settings": {
              "ALLOW_NOTEABLE_ATTRS": true,
              "COLUMN_SAMPLING_METHOD": "outer",
              "DB_LOCATION": ":memory:",
              "DEV_MODE": false,
              "DISPLAY_MAX_COLUMNS": 100,
              "DISPLAY_MAX_ROWS": 50000,
              "DISPLAY_MODE": "simple",
              "ENABLE_ASSIGNMENT": true,
              "ENABLE_DATALINK": true,
              "FLATTEN_COLUMN_VALUES": true,
              "FLATTEN_INDEX_VALUES": false,
              "GENERATE_DEX_METADATA": false,
              "HTML_TABLE_SCHEMA": false,
              "LOG_LEVEL": 30,
              "MAX_RENDER_SIZE_BYTES": 104857600,
              "MAX_STRING_LENGTH": 250,
              "NUM_PAST_SAMPLES_TRACKED": 3,
              "RANDOM_STATE": 12648430,
              "RESET_INDEX_VALUES": false,
              "ROW_SAMPLING_METHOD": "random",
              "SAMPLING_FACTOR": 0.1,
              "SAMPLING_METHOD": "random",
              "STRINGIFY_COLUMN_VALUES": true,
              "STRINGIFY_INDEX_VALUES": false
            },
            "sample_history": [],
            "sampling_time": "2023-08-16T18:41:13.201241",
            "user_variable_name": null,
            "variable_name": "unk_dataframe_63282b56f1614a40bce6f0d7c71f9cfd"
          }
        }
      },
      "outputs": [],
      "source": "city = pd.DataFrame({\n    'name' : ['Akash', 'Akansha', 'Pulkit', 'Anand', 'Naman'],\n    'city' : ['Delhi', 'Gurugram', 'Gurugram', 'Delhi', 'Noida']\n})\nmerged_df = pd.merge(sample_df, city, on='name')\ngurugram_students = merged_df[merged_df['city'] == 'Gurugram']\ngurugram_students[['name', 'marks']]",
      "id": "1127b416"
    },
    {
      "cell_type": "markdown",
      "metadata": {},
      "source": [
        "#### `READ THE BIG MART SALES DATA`\n",
        "\n",
        "---"
      ],
      "id": "456ef891"
    },
    {
      "cell_type": "code",
      "execution_count": 14,
      "metadata": {
        "noteable": {
          "output_collection_id": "1875039d-89c0-4b24-9be1-983ad6a0d12a"
        },
        "ExecuteTime": {
          "end_time": "2023-08-16T18:41:40.210326+00:00",
          "start_time": "2023-08-16T18:41:40.032438+00:00"
        }
      },
      "outputs": [],
      "source": "big_mart_data = pd.read_csv('big_mart_sales.csv')",
      "id": "73ed4dc8"
    },
    {
      "cell_type": "code",
      "execution_count": 15,
      "metadata": {
        "noteable": {
          "output_collection_id": "f5bf1bc1-a626-4795-a1f1-b6531bd583fa"
        },
        "ExecuteTime": {
          "end_time": "2023-08-16T18:41:44.522665+00:00",
          "start_time": "2023-08-16T18:41:44.281440+00:00"
        },
        "datalink": {
          "fe14771c-729e-44b9-979a-bb6fcaaa981f": {
            "applied_filters": [],
            "dataframe_info": {
              "default_index_used": true,
              "orig_num_cols": 12,
              "orig_num_rows": 5,
              "orig_size_bytes": 520,
              "truncated_num_cols": 12,
              "truncated_num_rows": 5,
              "truncated_size_bytes": 520,
              "truncated_string_columns": []
            },
            "display_id": "fe14771c-729e-44b9-979a-bb6fcaaa981f",
            "dx_settings": {
              "ALLOW_NOTEABLE_ATTRS": true,
              "COLUMN_SAMPLING_METHOD": "outer",
              "DB_LOCATION": ":memory:",
              "DEV_MODE": false,
              "DISPLAY_MAX_COLUMNS": 100,
              "DISPLAY_MAX_ROWS": 50000,
              "DISPLAY_MODE": "simple",
              "ENABLE_ASSIGNMENT": true,
              "ENABLE_DATALINK": true,
              "FLATTEN_COLUMN_VALUES": true,
              "FLATTEN_INDEX_VALUES": false,
              "GENERATE_DEX_METADATA": false,
              "HTML_TABLE_SCHEMA": false,
              "LOG_LEVEL": 30,
              "MAX_RENDER_SIZE_BYTES": 104857600,
              "MAX_STRING_LENGTH": 250,
              "NUM_PAST_SAMPLES_TRACKED": 3,
              "RANDOM_STATE": 12648430,
              "RESET_INDEX_VALUES": false,
              "ROW_SAMPLING_METHOD": "random",
              "SAMPLING_FACTOR": 0.1,
              "SAMPLING_METHOD": "random",
              "STRINGIFY_COLUMN_VALUES": true,
              "STRINGIFY_INDEX_VALUES": false
            },
            "sample_history": [],
            "sampling_time": "2023-08-16T18:41:44.364211",
            "user_variable_name": null,
            "variable_name": "unk_dataframe_ef4d40f1abd64a18a1c8c49b645a4a2a"
          }
        }
      },
      "outputs": [],
      "source": [
        "big_mart_data.head()"
      ],
      "id": "8a0b7b59"
    },
    {
      "cell_type": "markdown",
      "metadata": {},
      "source": [
        "#### Find out the number of unique `Item_Type` in each of the `Outlet_Identifier`\n",
        "\n",
        "---"
      ],
      "id": "e0dc54e8"
    },
    {
      "cell_type": "code",
      "execution_count": 16,
      "metadata": {
        "noteable": {
          "output_collection_id": "66b3eead-c574-41e5-8232-6e08135c28fe"
        },
        "ExecuteTime": {
          "end_time": "2023-08-16T18:43:55.694468+00:00",
          "start_time": "2023-08-16T18:43:55.501301+00:00"
        },
        "datalink": {
          "29e339ca-da42-4786-8b4e-feec0d06ed14": {
            "applied_filters": [],
            "dataframe_info": {
              "default_index_used": false,
              "orig_num_cols": 1,
              "orig_num_rows": 10,
              "orig_size_bytes": 160,
              "truncated_num_cols": 1,
              "truncated_num_rows": 10,
              "truncated_size_bytes": 160,
              "truncated_string_columns": []
            },
            "display_id": "29e339ca-da42-4786-8b4e-feec0d06ed14",
            "dx_settings": {
              "ALLOW_NOTEABLE_ATTRS": true,
              "COLUMN_SAMPLING_METHOD": "outer",
              "DB_LOCATION": ":memory:",
              "DEV_MODE": false,
              "DISPLAY_MAX_COLUMNS": 100,
              "DISPLAY_MAX_ROWS": 50000,
              "DISPLAY_MODE": "simple",
              "ENABLE_ASSIGNMENT": true,
              "ENABLE_DATALINK": true,
              "FLATTEN_COLUMN_VALUES": true,
              "FLATTEN_INDEX_VALUES": false,
              "GENERATE_DEX_METADATA": false,
              "HTML_TABLE_SCHEMA": false,
              "LOG_LEVEL": 30,
              "MAX_RENDER_SIZE_BYTES": 104857600,
              "MAX_STRING_LENGTH": 250,
              "NUM_PAST_SAMPLES_TRACKED": 3,
              "RANDOM_STATE": 12648430,
              "RESET_INDEX_VALUES": false,
              "ROW_SAMPLING_METHOD": "random",
              "SAMPLING_FACTOR": 0.1,
              "SAMPLING_METHOD": "random",
              "STRINGIFY_COLUMN_VALUES": true,
              "STRINGIFY_INDEX_VALUES": false
            },
            "sample_history": [],
            "sampling_time": "2023-08-16T18:43:55.538770",
            "user_variable_name": null,
            "variable_name": "unk_dataframe_dee7110ea6064256b0394ad301dda8cd"
          }
        }
      },
      "outputs": [],
      "source": "unique_item_types_per_outlet = big_mart_data.groupby('Outlet_Identifier')['Item_Type'].nunique()\nunique_item_types_per_outlet",
      "id": "d7a30aac"
    },
    {
      "cell_type": "markdown",
      "metadata": {},
      "source": [
        "#### Find out the average `Item_Outlet_Sales` for each category of `Outlet_Size`\n",
        "\n",
        "---"
      ],
      "id": "66cd9077"
    },
    {
      "cell_type": "code",
      "execution_count": 17,
      "metadata": {
        "noteable": {
          "output_collection_id": "9229e0d8-e7ad-489c-a85e-77aa29deba71"
        },
        "ExecuteTime": {
          "end_time": "2023-08-16T18:46:56.358214+00:00",
          "start_time": "2023-08-16T18:46:56.161610+00:00"
        },
        "datalink": {
          "51d2e030-e451-495b-b552-22db651148ab": {
            "applied_filters": [],
            "dataframe_info": {
              "default_index_used": false,
              "orig_num_cols": 1,
              "orig_num_rows": 3,
              "orig_size_bytes": 48,
              "truncated_num_cols": 1,
              "truncated_num_rows": 3,
              "truncated_size_bytes": 48,
              "truncated_string_columns": []
            },
            "display_id": "51d2e030-e451-495b-b552-22db651148ab",
            "dx_settings": {
              "ALLOW_NOTEABLE_ATTRS": true,
              "COLUMN_SAMPLING_METHOD": "outer",
              "DB_LOCATION": ":memory:",
              "DEV_MODE": false,
              "DISPLAY_MAX_COLUMNS": 100,
              "DISPLAY_MAX_ROWS": 50000,
              "DISPLAY_MODE": "simple",
              "ENABLE_ASSIGNMENT": true,
              "ENABLE_DATALINK": true,
              "FLATTEN_COLUMN_VALUES": true,
              "FLATTEN_INDEX_VALUES": false,
              "GENERATE_DEX_METADATA": false,
              "HTML_TABLE_SCHEMA": false,
              "LOG_LEVEL": 30,
              "MAX_RENDER_SIZE_BYTES": 104857600,
              "MAX_STRING_LENGTH": 250,
              "NUM_PAST_SAMPLES_TRACKED": 3,
              "RANDOM_STATE": 12648430,
              "RESET_INDEX_VALUES": false,
              "ROW_SAMPLING_METHOD": "random",
              "SAMPLING_FACTOR": 0.1,
              "SAMPLING_METHOD": "random",
              "STRINGIFY_COLUMN_VALUES": true,
              "STRINGIFY_INDEX_VALUES": false
            },
            "sample_history": [],
            "sampling_time": "2023-08-16T18:46:56.202039",
            "user_variable_name": null,
            "variable_name": "unk_dataframe_a2a1105f399a451c80a096f2ea9b0ac2"
          }
        }
      },
      "outputs": [],
      "source": "average_sales_per_outlet_size = big_mart_data.groupby('Outlet_Size')['Item_Outlet_Sales'].mean()\naverage_sales_per_outlet_size",
      "id": "d5891d3f"
    },
    {
      "cell_type": "markdown",
      "metadata": {},
      "source": [
        "#### Select only the categorical variables from the dataframe and use `get_dummies` function to convert those into the numerical ones. \n",
        "\n",
        "---"
      ],
      "id": "7bcae629"
    },
    {
      "cell_type": "code",
      "execution_count": 18,
      "metadata": {},
      "outputs": [],
      "source": [
        "# WRITE YOUR CODE HERE"
      ],
      "id": "ddc892c7"
    },
    {
      "cell_type": "code",
      "execution_count": null,
      "metadata": {},
      "outputs": [],
      "source": [],
      "id": "66b6e4dc"
    }
  ],
  "metadata": {
    "kernelspec": {
      "display_name": "Python 3.9",
      "language": "python",
      "name": "python3"
    },
    "language_info": {
      "codemirror_mode": {
        "name": "ipython",
        "version": 3
      },
      "file_extension": ".py",
      "mimetype": "text/x-python",
      "name": "python",
      "nbconvert_exporter": "python",
      "pygments_lexer": "ipython3",
      "version": "3.7.5"
    },
    "noteable": {
      "last_transaction_id": "a3254691-490d-4394-a292-f5322e78b2b5"
    },
    "selected_hardware_size": "small",
    "kernel_info": {
      "name": "python3"
    }
  },
  "nbformat": 4,
  "nbformat_minor": 5
}