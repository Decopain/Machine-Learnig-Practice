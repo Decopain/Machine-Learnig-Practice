{
  "cells": [
    {
      "cell_type": "markdown",
      "source": [
        "---\n",
        "---\n",
        "\n",
        "<center><h1>📍 📍 Assignment: Subsetting and Modifying Data📍 📍</h1></center>\n",
        "\n",
        "\n",
        "---\n",
        "\n",
        "\n",
        "#### `READ THE BIG MART SALES DATA`\n",
        "\n",
        "\n",
        "---"
      ],
      "metadata": {},
      "id": "50c35c47"
    },
    {
      "cell_type": "code",
      "source": [
        "import pandas as pd"
      ],
      "outputs": [],
      "execution_count": 1,
      "metadata": {
        "noteable": {},
        "ExecuteTime": {
          "start_time": "2023-08-16T17:48:37.991919+00:00",
          "end_time": "2023-08-16T17:48:38.147923+00:00"
        }
      },
      "id": "7082310d"
    },
    {
      "cell_type": "code",
      "source": [
        "data = pd.read_csv('big_mart_sales.csv')"
      ],
      "outputs": [],
      "execution_count": 3,
      "metadata": {
        "noteable": {},
        "ExecuteTime": {
          "start_time": "2023-08-16T17:48:38.156283+00:00",
          "end_time": "2023-08-16T17:48:38.331758+00:00"
        }
      },
      "id": "5290a89a"
    },
    {
      "cell_type": "code",
      "source": [
        "data.head()"
      ],
      "outputs": [
        {
          "output_type": "display_data",
          "data": {
            "application/vnd.dataresource+json": {
              "schema": {
                "fields": [
                  {
                    "name": "index",
                    "type": "integer"
                  },
                  {
                    "name": "Item_Identifier",
                    "type": "string"
                  },
                  {
                    "name": "Item_Weight",
                    "type": "number"
                  },
                  {
                    "name": "Item_Fat_Content",
                    "type": "string"
                  },
                  {
                    "name": "Item_Visibility",
                    "type": "number"
                  },
                  {
                    "name": "Item_Type",
                    "type": "string"
                  },
                  {
                    "name": "Item_MRP",
                    "type": "number"
                  },
                  {
                    "name": "Outlet_Identifier",
                    "type": "string"
                  },
                  {
                    "name": "Outlet_Establishment_Year",
                    "type": "integer"
                  },
                  {
                    "name": "Outlet_Size",
                    "type": "string"
                  },
                  {
                    "name": "Outlet_Location_Type",
                    "type": "string"
                  },
                  {
                    "name": "Outlet_Type",
                    "type": "string"
                  },
                  {
                    "name": "Item_Outlet_Sales",
                    "type": "number"
                  }
                ],
                "primaryKey": [
                  "index"
                ],
                "pandas_version": "1.4.0"
              },
              "data": [
                {
                  "index": 0,
                  "Item_Identifier": "FDA15",
                  "Item_Weight": 9.3,
                  "Item_Fat_Content": "Low Fat",
                  "Item_Visibility": 0.016047301,
                  "Item_Type": "Dairy",
                  "Item_MRP": 249.8092,
                  "Outlet_Identifier": "OUT049",
                  "Outlet_Establishment_Year": 1999,
                  "Outlet_Size": "Medium",
                  "Outlet_Location_Type": "Tier 1",
                  "Outlet_Type": "Supermarket Type1",
                  "Item_Outlet_Sales": 3735.138
                },
                {
                  "index": 1,
                  "Item_Identifier": "DRC01",
                  "Item_Weight": 5.92,
                  "Item_Fat_Content": "Regular",
                  "Item_Visibility": 0.019278216,
                  "Item_Type": "Soft Drinks",
                  "Item_MRP": 48.2692,
                  "Outlet_Identifier": "OUT018",
                  "Outlet_Establishment_Year": 2009,
                  "Outlet_Size": "Medium",
                  "Outlet_Location_Type": "Tier 3",
                  "Outlet_Type": "Supermarket Type2",
                  "Item_Outlet_Sales": 443.4228
                },
                {
                  "index": 2,
                  "Item_Identifier": "FDN15",
                  "Item_Weight": 17.5,
                  "Item_Fat_Content": "Low Fat",
                  "Item_Visibility": 0.016760075,
                  "Item_Type": "Meat",
                  "Item_MRP": 141.618,
                  "Outlet_Identifier": "OUT049",
                  "Outlet_Establishment_Year": 1999,
                  "Outlet_Size": "Medium",
                  "Outlet_Location_Type": "Tier 1",
                  "Outlet_Type": "Supermarket Type1",
                  "Item_Outlet_Sales": 2097.27
                },
                {
                  "index": 3,
                  "Item_Identifier": "FDX07",
                  "Item_Weight": 19.2,
                  "Item_Fat_Content": "Regular",
                  "Item_Visibility": 0,
                  "Item_Type": "Fruits and Vegetables",
                  "Item_MRP": 182.095,
                  "Outlet_Identifier": "OUT010",
                  "Outlet_Establishment_Year": 1998,
                  "Outlet_Size": null,
                  "Outlet_Location_Type": "Tier 3",
                  "Outlet_Type": "Grocery Store",
                  "Item_Outlet_Sales": 732.38
                },
                {
                  "index": 4,
                  "Item_Identifier": "NCD19",
                  "Item_Weight": 8.93,
                  "Item_Fat_Content": "Low Fat",
                  "Item_Visibility": 0,
                  "Item_Type": "Household",
                  "Item_MRP": 53.8614,
                  "Outlet_Identifier": "OUT013",
                  "Outlet_Establishment_Year": 1987,
                  "Outlet_Size": "High",
                  "Outlet_Location_Type": "Tier 3",
                  "Outlet_Type": "Supermarket Type1",
                  "Item_Outlet_Sales": 994.7052
                }
              ],
              "datalink": {
                "display_id": "61846e76-1944-4cf9-b02e-e46f13e35e38"
              }
            }
          },
          "metadata": {
            "application/vnd.dataresource+json": {
              "datalink": {
                "dataframe_info": {
                  "default_index_used": true,
                  "orig_size_bytes": 520,
                  "orig_num_rows": 5,
                  "orig_num_cols": 12,
                  "truncated_string_columns": [],
                  "truncated_size_bytes": 520,
                  "truncated_num_rows": 5,
                  "truncated_num_cols": 12
                },
                "dx_settings": {
                  "NUM_PAST_SAMPLES_TRACKED": 3,
                  "ENABLE_DATALINK": true,
                  "DISPLAY_MODE": "simple",
                  "GENERATE_DEX_METADATA": false,
                  "STRINGIFY_INDEX_VALUES": false,
                  "ALLOW_NOTEABLE_ATTRS": true,
                  "DISPLAY_MAX_COLUMNS": 100,
                  "HTML_TABLE_SCHEMA": false,
                  "SAMPLING_FACTOR": 0.1,
                  "LOG_LEVEL": 30,
                  "ENABLE_ASSIGNMENT": true,
                  "FLATTEN_INDEX_VALUES": false,
                  "DEV_MODE": false,
                  "COLUMN_SAMPLING_METHOD": "outer",
                  "FLATTEN_COLUMN_VALUES": true,
                  "DISPLAY_MAX_ROWS": 50000,
                  "ROW_SAMPLING_METHOD": "random",
                  "RANDOM_STATE": 12648430,
                  "DB_LOCATION": ":memory:",
                  "STRINGIFY_COLUMN_VALUES": true,
                  "SAMPLING_METHOD": "random",
                  "MAX_STRING_LENGTH": 250,
                  "MAX_RENDER_SIZE_BYTES": 104857600,
                  "RESET_INDEX_VALUES": false
                },
                "display_id": "61846e76-1944-4cf9-b02e-e46f13e35e38",
                "applied_filters": [],
                "sample_history": [],
                "sampling_time": "2023-08-16T17:48:38.419034",
                "variable_name": "unk_dataframe_7f25c456bbbe4b7cbd99c34b244fedea",
                "user_variable_name": null
              },
              "display_id": "61846e76-1944-4cf9-b02e-e46f13e35e38"
            }
          }
        }
      ],
      "execution_count": 4,
      "metadata": {
        "noteable": {},
        "ExecuteTime": {
          "start_time": "2023-08-16T17:48:38.345656+00:00",
          "end_time": "2023-08-16T17:48:38.579737+00:00"
        },
        "datalink": {
          "5ff278db-db14-4e60-9f25-6ce4f1827818": {
            "dataframe_info": {
              "default_index_used": true,
              "orig_size_bytes": 520,
              "orig_num_rows": 5,
              "orig_num_cols": 12,
              "truncated_string_columns": [],
              "truncated_size_bytes": 520,
              "truncated_num_rows": 5,
              "truncated_num_cols": 12
            },
            "dx_settings": {
              "LOG_LEVEL": 30,
              "DEV_MODE": false,
              "DISPLAY_MAX_ROWS": 50000,
              "DISPLAY_MAX_COLUMNS": 100,
              "HTML_TABLE_SCHEMA": false,
              "MAX_RENDER_SIZE_BYTES": 104857600,
              "MAX_STRING_LENGTH": 250,
              "SAMPLING_FACTOR": 0.1,
              "DISPLAY_MODE": "simple",
              "SAMPLING_METHOD": "random",
              "COLUMN_SAMPLING_METHOD": "outer",
              "ROW_SAMPLING_METHOD": "random",
              "RANDOM_STATE": 12648430,
              "RESET_INDEX_VALUES": false,
              "FLATTEN_INDEX_VALUES": false,
              "FLATTEN_COLUMN_VALUES": true,
              "STRINGIFY_INDEX_VALUES": false,
              "STRINGIFY_COLUMN_VALUES": true,
              "ENABLE_DATALINK": true,
              "ENABLE_ASSIGNMENT": true,
              "NUM_PAST_SAMPLES_TRACKED": 3,
              "DB_LOCATION": ":memory:",
              "GENERATE_DEX_METADATA": false,
              "ALLOW_NOTEABLE_ATTRS": true
            },
            "display_id": "5ff278db-db14-4e60-9f25-6ce4f1827818",
            "applied_filters": [],
            "sample_history": [],
            "sampling_time": "2023-08-16T17:39:17.298193",
            "variable_name": "unk_dataframe_1639ce5e25c342718f63b10423fcc498",
            "user_variable_name": null
          },
          "61846e76-1944-4cf9-b02e-e46f13e35e38": {
            "dataframe_info": {
              "default_index_used": true,
              "orig_size_bytes": 520,
              "orig_num_rows": 5,
              "orig_num_cols": 12,
              "truncated_string_columns": [],
              "truncated_size_bytes": 520,
              "truncated_num_rows": 5,
              "truncated_num_cols": 12
            },
            "dx_settings": {
              "LOG_LEVEL": 30,
              "DEV_MODE": false,
              "DISPLAY_MAX_ROWS": 50000,
              "DISPLAY_MAX_COLUMNS": 100,
              "HTML_TABLE_SCHEMA": false,
              "MAX_RENDER_SIZE_BYTES": 104857600,
              "MAX_STRING_LENGTH": 250,
              "SAMPLING_FACTOR": 0.1,
              "DISPLAY_MODE": "simple",
              "SAMPLING_METHOD": "random",
              "COLUMN_SAMPLING_METHOD": "outer",
              "ROW_SAMPLING_METHOD": "random",
              "RANDOM_STATE": 12648430,
              "RESET_INDEX_VALUES": false,
              "FLATTEN_INDEX_VALUES": false,
              "FLATTEN_COLUMN_VALUES": true,
              "STRINGIFY_INDEX_VALUES": false,
              "STRINGIFY_COLUMN_VALUES": true,
              "ENABLE_DATALINK": true,
              "ENABLE_ASSIGNMENT": true,
              "NUM_PAST_SAMPLES_TRACKED": 3,
              "DB_LOCATION": ":memory:",
              "GENERATE_DEX_METADATA": false,
              "ALLOW_NOTEABLE_ATTRS": true
            },
            "display_id": "61846e76-1944-4cf9-b02e-e46f13e35e38",
            "applied_filters": [],
            "sample_history": [],
            "sampling_time": "2023-08-16T17:48:38.419034",
            "variable_name": "unk_dataframe_7f25c456bbbe4b7cbd99c34b244fedea",
            "user_variable_name": null
          }
        }
      },
      "id": "08ea5a83"
    },
    {
      "cell_type": "markdown",
      "source": [
        "---\n",
        "\n",
        "#### `Select the rows where Item_MRP is less than 100`\n",
        "\n",
        "\n",
        "---"
      ],
      "metadata": {},
      "id": "77a0d006"
    },
    {
      "cell_type": "code",
      "source": [
        "Item_MRP_plus = data[data['Item_MRP'] < 100]\n",
        "Item_MRP_plus.head()"
      ],
      "outputs": [
        {
          "output_type": "display_data",
          "data": {
            "application/vnd.dataresource+json": {
              "schema": {
                "fields": [
                  {
                    "name": "index",
                    "type": "integer"
                  },
                  {
                    "name": "Item_Identifier",
                    "type": "string"
                  },
                  {
                    "name": "Item_Weight",
                    "type": "number"
                  },
                  {
                    "name": "Item_Fat_Content",
                    "type": "string"
                  },
                  {
                    "name": "Item_Visibility",
                    "type": "number"
                  },
                  {
                    "name": "Item_Type",
                    "type": "string"
                  },
                  {
                    "name": "Item_MRP",
                    "type": "number"
                  },
                  {
                    "name": "Outlet_Identifier",
                    "type": "string"
                  },
                  {
                    "name": "Outlet_Establishment_Year",
                    "type": "integer"
                  },
                  {
                    "name": "Outlet_Size",
                    "type": "string"
                  },
                  {
                    "name": "Outlet_Location_Type",
                    "type": "string"
                  },
                  {
                    "name": "Outlet_Type",
                    "type": "string"
                  },
                  {
                    "name": "Item_Outlet_Sales",
                    "type": "number"
                  }
                ],
                "primaryKey": [
                  "index"
                ],
                "pandas_version": "1.4.0"
              },
              "data": [
                {
                  "index": 1,
                  "Item_Identifier": "DRC01",
                  "Item_Weight": 5.92,
                  "Item_Fat_Content": "Regular",
                  "Item_Visibility": 0.019278216,
                  "Item_Type": "Soft Drinks",
                  "Item_MRP": 48.2692,
                  "Outlet_Identifier": "OUT018",
                  "Outlet_Establishment_Year": 2009,
                  "Outlet_Size": "Medium",
                  "Outlet_Location_Type": "Tier 3",
                  "Outlet_Type": "Supermarket Type2",
                  "Item_Outlet_Sales": 443.4228
                },
                {
                  "index": 4,
                  "Item_Identifier": "NCD19",
                  "Item_Weight": 8.93,
                  "Item_Fat_Content": "Low Fat",
                  "Item_Visibility": 0,
                  "Item_Type": "Household",
                  "Item_MRP": 53.8614,
                  "Outlet_Identifier": "OUT013",
                  "Outlet_Establishment_Year": 1987,
                  "Outlet_Size": "High",
                  "Outlet_Location_Type": "Tier 3",
                  "Outlet_Type": "Supermarket Type1",
                  "Item_Outlet_Sales": 994.7052
                },
                {
                  "index": 5,
                  "Item_Identifier": "FDP36",
                  "Item_Weight": 10.395,
                  "Item_Fat_Content": "Regular",
                  "Item_Visibility": 0,
                  "Item_Type": "Baking Goods",
                  "Item_MRP": 51.4008,
                  "Outlet_Identifier": "OUT018",
                  "Outlet_Establishment_Year": 2009,
                  "Outlet_Size": "Medium",
                  "Outlet_Location_Type": "Tier 3",
                  "Outlet_Type": "Supermarket Type2",
                  "Item_Outlet_Sales": 556.6088
                },
                {
                  "index": 6,
                  "Item_Identifier": "FDO10",
                  "Item_Weight": 13.65,
                  "Item_Fat_Content": "Regular",
                  "Item_Visibility": 0.012741089,
                  "Item_Type": "Snack Foods",
                  "Item_MRP": 57.6588,
                  "Outlet_Identifier": "OUT013",
                  "Outlet_Establishment_Year": 1987,
                  "Outlet_Size": "High",
                  "Outlet_Location_Type": "Tier 3",
                  "Outlet_Type": "Supermarket Type1",
                  "Item_Outlet_Sales": 343.5528
                },
                {
                  "index": 8,
                  "Item_Identifier": "FDH17",
                  "Item_Weight": 16.2,
                  "Item_Fat_Content": "Regular",
                  "Item_Visibility": 0.016687114,
                  "Item_Type": "Frozen Foods",
                  "Item_MRP": 96.9726,
                  "Outlet_Identifier": "OUT045",
                  "Outlet_Establishment_Year": 2002,
                  "Outlet_Size": null,
                  "Outlet_Location_Type": "Tier 2",
                  "Outlet_Type": "Supermarket Type1",
                  "Item_Outlet_Sales": 1076.5986
                }
              ],
              "datalink": {
                "display_id": "45071e58-ad1e-4867-9d63-f07c36a0dd44"
              }
            }
          },
          "metadata": {
            "application/vnd.dataresource+json": {
              "datalink": {
                "dataframe_info": {
                  "default_index_used": true,
                  "orig_size_bytes": 520,
                  "orig_num_rows": 5,
                  "orig_num_cols": 12,
                  "truncated_string_columns": [],
                  "truncated_size_bytes": 520,
                  "truncated_num_rows": 5,
                  "truncated_num_cols": 12
                },
                "dx_settings": {
                  "NUM_PAST_SAMPLES_TRACKED": 3,
                  "ENABLE_DATALINK": true,
                  "DISPLAY_MODE": "simple",
                  "GENERATE_DEX_METADATA": false,
                  "STRINGIFY_INDEX_VALUES": false,
                  "ALLOW_NOTEABLE_ATTRS": true,
                  "DISPLAY_MAX_COLUMNS": 100,
                  "HTML_TABLE_SCHEMA": false,
                  "SAMPLING_FACTOR": 0.1,
                  "LOG_LEVEL": 30,
                  "ENABLE_ASSIGNMENT": true,
                  "FLATTEN_INDEX_VALUES": false,
                  "DEV_MODE": false,
                  "COLUMN_SAMPLING_METHOD": "outer",
                  "FLATTEN_COLUMN_VALUES": true,
                  "DISPLAY_MAX_ROWS": 50000,
                  "ROW_SAMPLING_METHOD": "random",
                  "RANDOM_STATE": 12648430,
                  "DB_LOCATION": ":memory:",
                  "STRINGIFY_COLUMN_VALUES": true,
                  "SAMPLING_METHOD": "random",
                  "MAX_STRING_LENGTH": 250,
                  "MAX_RENDER_SIZE_BYTES": 104857600,
                  "RESET_INDEX_VALUES": false
                },
                "display_id": "45071e58-ad1e-4867-9d63-f07c36a0dd44",
                "applied_filters": [],
                "sample_history": [],
                "sampling_time": "2023-08-16T17:49:24.876611",
                "variable_name": "unk_dataframe_5c7bd010c1484180988069eeabcc8880",
                "user_variable_name": null
              },
              "display_id": "45071e58-ad1e-4867-9d63-f07c36a0dd44"
            }
          }
        }
      ],
      "execution_count": 5,
      "metadata": {
        "noteable": {},
        "ExecuteTime": {
          "start_time": "2023-08-16T17:49:24.789963+00:00",
          "end_time": "2023-08-16T17:49:25.034848+00:00"
        },
        "datalink": {
          "45071e58-ad1e-4867-9d63-f07c36a0dd44": {
            "dataframe_info": {
              "default_index_used": true,
              "orig_size_bytes": 520,
              "orig_num_rows": 5,
              "orig_num_cols": 12,
              "truncated_string_columns": [],
              "truncated_size_bytes": 520,
              "truncated_num_rows": 5,
              "truncated_num_cols": 12
            },
            "dx_settings": {
              "LOG_LEVEL": 30,
              "DEV_MODE": false,
              "DISPLAY_MAX_ROWS": 50000,
              "DISPLAY_MAX_COLUMNS": 100,
              "HTML_TABLE_SCHEMA": false,
              "MAX_RENDER_SIZE_BYTES": 104857600,
              "MAX_STRING_LENGTH": 250,
              "SAMPLING_FACTOR": 0.1,
              "DISPLAY_MODE": "simple",
              "SAMPLING_METHOD": "random",
              "COLUMN_SAMPLING_METHOD": "outer",
              "ROW_SAMPLING_METHOD": "random",
              "RANDOM_STATE": 12648430,
              "RESET_INDEX_VALUES": false,
              "FLATTEN_INDEX_VALUES": false,
              "FLATTEN_COLUMN_VALUES": true,
              "STRINGIFY_INDEX_VALUES": false,
              "STRINGIFY_COLUMN_VALUES": true,
              "ENABLE_DATALINK": true,
              "ENABLE_ASSIGNMENT": true,
              "NUM_PAST_SAMPLES_TRACKED": 3,
              "DB_LOCATION": ":memory:",
              "GENERATE_DEX_METADATA": false,
              "ALLOW_NOTEABLE_ATTRS": true
            },
            "display_id": "45071e58-ad1e-4867-9d63-f07c36a0dd44",
            "applied_filters": [],
            "sample_history": [],
            "sampling_time": "2023-08-16T17:49:24.876611",
            "variable_name": "unk_dataframe_5c7bd010c1484180988069eeabcc8880",
            "user_variable_name": null
          }
        }
      },
      "id": "2e3386e5"
    },
    {
      "cell_type": "markdown",
      "source": [
        "---\n",
        "\n",
        "#### `Select the rows where Outlet_Location_Type is Tier 1 and Outlet_Establishment_Year is from the list [1987, 1988, 2009]`\n",
        "\n",
        "--- "
      ],
      "metadata": {},
      "id": "645c8548"
    },
    {
      "cell_type": "code",
      "source": [
        "aged_teir1 = data[(data['Outlet_Location_Type'] == 'Tier 1') & (data['Outlet_Establishment_Year'].isin([1987, 1988, 2009]))]\n",
        "aged_teir1.head()"
      ],
      "outputs": [
        {
          "output_type": "display_data",
          "data": {
            "application/vnd.dataresource+json": {
              "schema": {
                "fields": [
                  {
                    "name": "index",
                    "type": "integer"
                  },
                  {
                    "name": "Item_Identifier",
                    "type": "string"
                  },
                  {
                    "name": "Item_Weight",
                    "type": "number"
                  },
                  {
                    "name": "Item_Fat_Content",
                    "type": "string"
                  },
                  {
                    "name": "Item_Visibility",
                    "type": "number"
                  },
                  {
                    "name": "Item_Type",
                    "type": "string"
                  },
                  {
                    "name": "Item_MRP",
                    "type": "number"
                  },
                  {
                    "name": "Outlet_Identifier",
                    "type": "string"
                  },
                  {
                    "name": "Outlet_Establishment_Year",
                    "type": "integer"
                  },
                  {
                    "name": "Outlet_Size",
                    "type": "string"
                  },
                  {
                    "name": "Outlet_Location_Type",
                    "type": "string"
                  },
                  {
                    "name": "Outlet_Type",
                    "type": "string"
                  },
                  {
                    "name": "Item_Outlet_Sales",
                    "type": "number"
                  }
                ],
                "primaryKey": [
                  "index"
                ],
                "pandas_version": "1.4.0"
              },
              "data": [],
              "datalink": {
                "display_id": "050cac6f-850c-4617-99fe-3eccdbbedd84"
              }
            }
          },
          "metadata": {
            "application/vnd.dataresource+json": {
              "datalink": {
                "dataframe_info": {
                  "default_index_used": true,
                  "orig_size_bytes": 0,
                  "orig_num_rows": 0,
                  "orig_num_cols": 12,
                  "truncated_string_columns": [],
                  "truncated_size_bytes": 0,
                  "truncated_num_rows": 0,
                  "truncated_num_cols": 12
                },
                "dx_settings": {
                  "NUM_PAST_SAMPLES_TRACKED": 3,
                  "ENABLE_DATALINK": true,
                  "DISPLAY_MODE": "simple",
                  "GENERATE_DEX_METADATA": false,
                  "STRINGIFY_INDEX_VALUES": false,
                  "ALLOW_NOTEABLE_ATTRS": true,
                  "DISPLAY_MAX_COLUMNS": 100,
                  "HTML_TABLE_SCHEMA": false,
                  "SAMPLING_FACTOR": 0.1,
                  "LOG_LEVEL": 30,
                  "ENABLE_ASSIGNMENT": true,
                  "FLATTEN_INDEX_VALUES": false,
                  "DEV_MODE": false,
                  "COLUMN_SAMPLING_METHOD": "outer",
                  "FLATTEN_COLUMN_VALUES": true,
                  "DISPLAY_MAX_ROWS": 50000,
                  "ROW_SAMPLING_METHOD": "random",
                  "RANDOM_STATE": 12648430,
                  "DB_LOCATION": ":memory:",
                  "STRINGIFY_COLUMN_VALUES": true,
                  "SAMPLING_METHOD": "random",
                  "MAX_STRING_LENGTH": 250,
                  "MAX_RENDER_SIZE_BYTES": 104857600,
                  "RESET_INDEX_VALUES": false
                },
                "display_id": "050cac6f-850c-4617-99fe-3eccdbbedd84",
                "applied_filters": [],
                "sample_history": [],
                "sampling_time": "2023-08-16T17:50:44.918557",
                "variable_name": "aged_teir1",
                "user_variable_name": "aged_teir1"
              },
              "display_id": "050cac6f-850c-4617-99fe-3eccdbbedd84"
            }
          }
        }
      ],
      "execution_count": 6,
      "metadata": {
        "noteable": {},
        "ExecuteTime": {
          "start_time": "2023-08-16T17:50:44.846220+00:00",
          "end_time": "2023-08-16T17:50:45.077034+00:00"
        },
        "datalink": {
          "050cac6f-850c-4617-99fe-3eccdbbedd84": {
            "dataframe_info": {
              "default_index_used": true,
              "orig_size_bytes": 0,
              "orig_num_rows": 0,
              "orig_num_cols": 12,
              "truncated_string_columns": [],
              "truncated_size_bytes": 0,
              "truncated_num_rows": 0,
              "truncated_num_cols": 12
            },
            "dx_settings": {
              "LOG_LEVEL": 30,
              "DEV_MODE": false,
              "DISPLAY_MAX_ROWS": 50000,
              "DISPLAY_MAX_COLUMNS": 100,
              "HTML_TABLE_SCHEMA": false,
              "MAX_RENDER_SIZE_BYTES": 104857600,
              "MAX_STRING_LENGTH": 250,
              "SAMPLING_FACTOR": 0.1,
              "DISPLAY_MODE": "simple",
              "SAMPLING_METHOD": "random",
              "COLUMN_SAMPLING_METHOD": "outer",
              "ROW_SAMPLING_METHOD": "random",
              "RANDOM_STATE": 12648430,
              "RESET_INDEX_VALUES": false,
              "FLATTEN_INDEX_VALUES": false,
              "FLATTEN_COLUMN_VALUES": true,
              "STRINGIFY_INDEX_VALUES": false,
              "STRINGIFY_COLUMN_VALUES": true,
              "ENABLE_DATALINK": true,
              "ENABLE_ASSIGNMENT": true,
              "NUM_PAST_SAMPLES_TRACKED": 3,
              "DB_LOCATION": ":memory:",
              "GENERATE_DEX_METADATA": false,
              "ALLOW_NOTEABLE_ATTRS": true
            },
            "display_id": "050cac6f-850c-4617-99fe-3eccdbbedd84",
            "applied_filters": [],
            "sample_history": [],
            "sampling_time": "2023-08-16T17:50:44.918557",
            "variable_name": "aged_teir1",
            "user_variable_name": "aged_teir1"
          }
        }
      },
      "id": "62a0f014"
    },
    {
      "cell_type": "markdown",
      "source": [
        "---\n",
        "\n",
        "#### `Update the values of the column Outlet_Type using the mapping given below` \n",
        "\n",
        "\n",
        "---"
      ],
      "metadata": {},
      "id": "c2f9ffe2"
    },
    {
      "cell_type": "code",
      "source": [
        "mapping: {\n",
        "    'Supermarket Type1' : 1,\n",
        "    'Supermarket Type2' : 2,\n",
        "    'Grocery Store'     : 3,\n",
        "    'Supermarket Type3' : 4\n",
        "}"
      ],
      "outputs": [],
      "execution_count": 10,
      "metadata": {
        "noteable": {}
      },
      "id": "a3b570f8"
    },
    {
      "cell_type": "code",
      "source": [
        "mapping = {\n",
        "    'Supermarket Type1': 1,\n",
        "    'Supermarket Type2': 2,\n",
        "    'Grocery Store': 3,\n",
        "    'Supermarket Type3': 4\n",
        "}\n",
        "data['Outlet_Type'] = data['Outlet_Type'].map(mapping)\n",
        "data['Outlet_Type'].head()"
      ],
      "outputs": [
        {
          "output_type": "display_data",
          "data": {
            "application/vnd.dataresource+json": {
              "schema": {
                "fields": [
                  {
                    "name": "index",
                    "type": "integer"
                  },
                  {
                    "name": "Outlet_Type",
                    "type": "integer"
                  }
                ],
                "primaryKey": [
                  "index"
                ],
                "pandas_version": "1.4.0"
              },
              "data": [
                {
                  "index": 0,
                  "Outlet_Type": 1
                },
                {
                  "index": 1,
                  "Outlet_Type": 2
                },
                {
                  "index": 2,
                  "Outlet_Type": 1
                },
                {
                  "index": 3,
                  "Outlet_Type": 3
                },
                {
                  "index": 4,
                  "Outlet_Type": 1
                }
              ],
              "datalink": {
                "display_id": "96142c41-b3c4-4b8e-9163-162ea16df6b1"
              }
            }
          },
          "metadata": {
            "application/vnd.dataresource+json": {
              "datalink": {
                "dataframe_info": {
                  "default_index_used": true,
                  "orig_size_bytes": 80,
                  "orig_num_rows": 5,
                  "orig_num_cols": 1,
                  "truncated_string_columns": [],
                  "truncated_size_bytes": 80,
                  "truncated_num_rows": 5,
                  "truncated_num_cols": 1
                },
                "dx_settings": {
                  "NUM_PAST_SAMPLES_TRACKED": 3,
                  "ENABLE_DATALINK": true,
                  "DISPLAY_MODE": "simple",
                  "GENERATE_DEX_METADATA": false,
                  "STRINGIFY_INDEX_VALUES": false,
                  "ALLOW_NOTEABLE_ATTRS": true,
                  "DISPLAY_MAX_COLUMNS": 100,
                  "HTML_TABLE_SCHEMA": false,
                  "SAMPLING_FACTOR": 0.1,
                  "LOG_LEVEL": 30,
                  "ENABLE_ASSIGNMENT": true,
                  "FLATTEN_INDEX_VALUES": false,
                  "DEV_MODE": false,
                  "COLUMN_SAMPLING_METHOD": "outer",
                  "FLATTEN_COLUMN_VALUES": true,
                  "DISPLAY_MAX_ROWS": 50000,
                  "ROW_SAMPLING_METHOD": "random",
                  "RANDOM_STATE": 12648430,
                  "DB_LOCATION": ":memory:",
                  "STRINGIFY_COLUMN_VALUES": true,
                  "SAMPLING_METHOD": "random",
                  "MAX_STRING_LENGTH": 250,
                  "MAX_RENDER_SIZE_BYTES": 104857600,
                  "RESET_INDEX_VALUES": false
                },
                "display_id": "96142c41-b3c4-4b8e-9163-162ea16df6b1",
                "applied_filters": [],
                "sample_history": [],
                "sampling_time": "2023-08-16T17:51:52.560219",
                "variable_name": "unk_dataframe_cac813a44e7a443a80e16cd317af8936",
                "user_variable_name": null
              },
              "display_id": "96142c41-b3c4-4b8e-9163-162ea16df6b1"
            }
          }
        }
      ],
      "execution_count": 11,
      "metadata": {
        "noteable": {},
        "ExecuteTime": {
          "start_time": "2023-08-16T17:51:52.522384+00:00",
          "end_time": "2023-08-16T17:51:52.716191+00:00"
        },
        "datalink": {
          "96142c41-b3c4-4b8e-9163-162ea16df6b1": {
            "dataframe_info": {
              "default_index_used": true,
              "orig_size_bytes": 80,
              "orig_num_rows": 5,
              "orig_num_cols": 1,
              "truncated_string_columns": [],
              "truncated_size_bytes": 80,
              "truncated_num_rows": 5,
              "truncated_num_cols": 1
            },
            "dx_settings": {
              "LOG_LEVEL": 30,
              "DEV_MODE": false,
              "DISPLAY_MAX_ROWS": 50000,
              "DISPLAY_MAX_COLUMNS": 100,
              "HTML_TABLE_SCHEMA": false,
              "MAX_RENDER_SIZE_BYTES": 104857600,
              "MAX_STRING_LENGTH": 250,
              "SAMPLING_FACTOR": 0.1,
              "DISPLAY_MODE": "simple",
              "SAMPLING_METHOD": "random",
              "COLUMN_SAMPLING_METHOD": "outer",
              "ROW_SAMPLING_METHOD": "random",
              "RANDOM_STATE": 12648430,
              "RESET_INDEX_VALUES": false,
              "FLATTEN_INDEX_VALUES": false,
              "FLATTEN_COLUMN_VALUES": true,
              "STRINGIFY_INDEX_VALUES": false,
              "STRINGIFY_COLUMN_VALUES": true,
              "ENABLE_DATALINK": true,
              "ENABLE_ASSIGNMENT": true,
              "NUM_PAST_SAMPLES_TRACKED": 3,
              "DB_LOCATION": ":memory:",
              "GENERATE_DEX_METADATA": false,
              "ALLOW_NOTEABLE_ATTRS": true
            },
            "display_id": "96142c41-b3c4-4b8e-9163-162ea16df6b1",
            "applied_filters": [],
            "sample_history": [],
            "sampling_time": "2023-08-16T17:51:52.560219",
            "variable_name": "unk_dataframe_cac813a44e7a443a80e16cd317af8936",
            "user_variable_name": null
          }
        }
      },
      "id": "94b0cd8d"
    },
    {
      "cell_type": "markdown",
      "source": [
        "---\n",
        "\n",
        "#### `Fill the missing values in the column 'Outlet_Size' by Medium using loc`\n",
        "\n",
        "---"
      ],
      "metadata": {},
      "id": "3ad8b0c1"
    },
    {
      "cell_type": "code",
      "source": [
        "data.isna().sum() "
      ],
      "outputs": [],
      "execution_count": 13,
      "metadata": {
        "noteable": {}
      },
      "id": "2ef33863"
    },
    {
      "cell_type": "code",
      "source": [
        "data.loc[data['Outlet_Size'].isna(), 'Outlet_Size'] = 'Medium'\n",
        "data['Outlet_Size'].head()"
      ],
      "outputs": [
        {
          "output_type": "display_data",
          "data": {
            "application/vnd.dataresource+json": {
              "schema": {
                "fields": [
                  {
                    "name": "index",
                    "type": "integer"
                  },
                  {
                    "name": "Outlet_Size",
                    "type": "string"
                  }
                ],
                "primaryKey": [
                  "index"
                ],
                "pandas_version": "1.4.0"
              },
              "data": [
                {
                  "index": 0,
                  "Outlet_Size": "Medium"
                },
                {
                  "index": 1,
                  "Outlet_Size": "Medium"
                },
                {
                  "index": 2,
                  "Outlet_Size": "Medium"
                },
                {
                  "index": 3,
                  "Outlet_Size": "Medium"
                },
                {
                  "index": 4,
                  "Outlet_Size": "High"
                }
              ],
              "datalink": {
                "display_id": "0e6a0715-1452-4be4-a241-4a7f261bce27"
              }
            }
          },
          "metadata": {
            "application/vnd.dataresource+json": {
              "datalink": {
                "dataframe_info": {
                  "default_index_used": true,
                  "orig_size_bytes": 80,
                  "orig_num_rows": 5,
                  "orig_num_cols": 1,
                  "truncated_string_columns": [],
                  "truncated_size_bytes": 80,
                  "truncated_num_rows": 5,
                  "truncated_num_cols": 1
                },
                "dx_settings": {
                  "NUM_PAST_SAMPLES_TRACKED": 3,
                  "ENABLE_DATALINK": true,
                  "DISPLAY_MODE": "simple",
                  "GENERATE_DEX_METADATA": false,
                  "STRINGIFY_INDEX_VALUES": false,
                  "ALLOW_NOTEABLE_ATTRS": true,
                  "DISPLAY_MAX_COLUMNS": 100,
                  "HTML_TABLE_SCHEMA": false,
                  "SAMPLING_FACTOR": 0.1,
                  "LOG_LEVEL": 30,
                  "ENABLE_ASSIGNMENT": true,
                  "FLATTEN_INDEX_VALUES": false,
                  "DEV_MODE": false,
                  "COLUMN_SAMPLING_METHOD": "outer",
                  "FLATTEN_COLUMN_VALUES": true,
                  "DISPLAY_MAX_ROWS": 50000,
                  "ROW_SAMPLING_METHOD": "random",
                  "RANDOM_STATE": 12648430,
                  "DB_LOCATION": ":memory:",
                  "STRINGIFY_COLUMN_VALUES": true,
                  "SAMPLING_METHOD": "random",
                  "MAX_STRING_LENGTH": 250,
                  "MAX_RENDER_SIZE_BYTES": 104857600,
                  "RESET_INDEX_VALUES": false
                },
                "display_id": "0e6a0715-1452-4be4-a241-4a7f261bce27",
                "applied_filters": [],
                "sample_history": [],
                "sampling_time": "2023-08-16T17:52:18.567189",
                "variable_name": "unk_dataframe_ccdd53b2c95041d7a4f09edf34d47398",
                "user_variable_name": null
              },
              "display_id": "0e6a0715-1452-4be4-a241-4a7f261bce27"
            }
          }
        }
      ],
      "execution_count": 14,
      "metadata": {
        "noteable": {},
        "ExecuteTime": {
          "start_time": "2023-08-16T17:52:18.517593+00:00",
          "end_time": "2023-08-16T17:52:18.725012+00:00"
        },
        "datalink": {
          "0e6a0715-1452-4be4-a241-4a7f261bce27": {
            "dataframe_info": {
              "default_index_used": true,
              "orig_size_bytes": 80,
              "orig_num_rows": 5,
              "orig_num_cols": 1,
              "truncated_string_columns": [],
              "truncated_size_bytes": 80,
              "truncated_num_rows": 5,
              "truncated_num_cols": 1
            },
            "dx_settings": {
              "LOG_LEVEL": 30,
              "DEV_MODE": false,
              "DISPLAY_MAX_ROWS": 50000,
              "DISPLAY_MAX_COLUMNS": 100,
              "HTML_TABLE_SCHEMA": false,
              "MAX_RENDER_SIZE_BYTES": 104857600,
              "MAX_STRING_LENGTH": 250,
              "SAMPLING_FACTOR": 0.1,
              "DISPLAY_MODE": "simple",
              "SAMPLING_METHOD": "random",
              "COLUMN_SAMPLING_METHOD": "outer",
              "ROW_SAMPLING_METHOD": "random",
              "RANDOM_STATE": 12648430,
              "RESET_INDEX_VALUES": false,
              "FLATTEN_INDEX_VALUES": false,
              "FLATTEN_COLUMN_VALUES": true,
              "STRINGIFY_INDEX_VALUES": false,
              "STRINGIFY_COLUMN_VALUES": true,
              "ENABLE_DATALINK": true,
              "ENABLE_ASSIGNMENT": true,
              "NUM_PAST_SAMPLES_TRACKED": 3,
              "DB_LOCATION": ":memory:",
              "GENERATE_DEX_METADATA": false,
              "ALLOW_NOTEABLE_ATTRS": true
            },
            "display_id": "0e6a0715-1452-4be4-a241-4a7f261bce27",
            "applied_filters": [],
            "sample_history": [],
            "sampling_time": "2023-08-16T17:52:18.567189",
            "variable_name": "unk_dataframe_ccdd53b2c95041d7a4f09edf34d47398",
            "user_variable_name": null
          }
        }
      },
      "id": "a668a58b"
    },
    {
      "cell_type": "code",
      "source": [],
      "outputs": [],
      "execution_count": null,
      "metadata": {},
      "id": "7629074c"
    }
  ],
  "metadata": {
    "kernelspec": {
      "name": "python3",
      "display_name": "Python 3.9",
      "language": "python"
    },
    "language_info": {
      "codemirror_mode": {
        "name": "ipython",
        "version": 3
      },
      "file_extension": ".py",
      "mimetype": "text/x-python",
      "name": "python",
      "nbconvert_exporter": "python",
      "pygments_lexer": "ipython3",
      "version": "3.7.3"
    },
    "noteable": {
      "last_delta_id": "1dd1feb2-371a-4de0-b2a7-a14e9d4c6b3e"
    },
    "selected_hardware_size": "small",
    "kernel_info": {
      "name": "python3"
    },
    "nteract": {
      "version": "noteable@2.9.0"
    }
  },
  "nbformat": 4,
  "nbformat_minor": 5
}